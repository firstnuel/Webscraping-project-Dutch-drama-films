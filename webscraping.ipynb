{
 "cells": [
  {
   "cell_type": "markdown",
   "metadata": {},
   "source": [
    "<h1>WebScraping Project - \"Dutch drama films\"</h1>\n",
    "<p>Data Source: <a href=\"https://en.wikipedia.org/w/index.php?title=Category:Dutch_drama_films&pageuntil=Old+Tongues#mw-pages/\">Dutch drama films</p>\n"
   ]
  },
  {
   "cell_type": "markdown",
   "metadata": {},
   "source": [
    "\n",
    "<h2>Project Aim</h2>\n",
    "<p>The project goal to use libraries like <code>BeautifulSoup</code>, <code>Pandas</code> and <code>Requests</code> to draw some desirable information from \"Dutch drama films\" on Wikipedia and assemble them into a single excel format.</p>"
   ]
  },
  {
   "cell_type": "markdown",
   "metadata": {},
   "source": [
    "- Import Libraries"
   ]
  },
  {
   "cell_type": "code",
   "execution_count": 2,
   "metadata": {},
   "outputs": [],
   "source": [
    "from bs4 import BeautifulSoup\n",
    "import requests\n",
    "import pandas as pd"
   ]
  },
  {
   "cell_type": "markdown",
   "metadata": {},
   "source": [
    "<p> As seen on <a href=\"https://en.wikipedia.org/w/index.php?title=Category:Dutch_drama_films&pageuntil=Old+Tongues#mw-pages/\">Dutch drama films</a> the list of movies is spread across two pages, So i will be collecting data from two links and merge them afterwards."
   ]
  },
  {
   "cell_type": "code",
   "execution_count": 3,
   "metadata": {},
   "outputs": [],
   "source": [
    "film_url_1 = 'https://en.wikipedia.org/wiki/Category:Dutch_drama_films' #first_url\n",
    "data = requests.get(film_url_1).text\n",
    "soup = BeautifulSoup(data, 'html.parser')"
   ]
  },
  {
   "cell_type": "code",
   "execution_count": 52,
   "metadata": {},
   "outputs": [],
   "source": [
    "list_contents_1 = soup.find_all('li')"
   ]
  },
  {
   "cell_type": "markdown",
   "metadata": {},
   "source": [
    "On inspection of the tags we can see the main contents and the movies list are between the index[14:214] of the <code>li</code> tag."
   ]
  },
  {
   "cell_type": "code",
   "execution_count": 5,
   "metadata": {},
   "outputs": [],
   "source": [
    "#To scrape the movie contens\n",
    "movie_contents_1 =list_contents_1[14:214] "
   ]
  },
  {
   "cell_type": "markdown",
   "metadata": {},
   "source": [
    "- To scrape the second link "
   ]
  },
  {
   "cell_type": "code",
   "execution_count": 6,
   "metadata": {},
   "outputs": [],
   "source": [
    "#to get second list\n",
    "film_url_2 = 'https://en.wikipedia.org/w/index.php?title=Category:Dutch_drama_films&pagefrom=Old+Tongues#mw-pages'\n",
    "data_2 = requests.get(film_url_2).text\n",
    "soup2 = BeautifulSoup(data_2, 'html.parser')"
   ]
  },
  {
   "cell_type": "code",
   "execution_count": 53,
   "metadata": {},
   "outputs": [],
   "source": [
    "list_contents_2 = soup2.find_all('li')"
   ]
  },
  {
   "cell_type": "markdown",
   "metadata": {},
   "source": [
    "On inspection of the tags we can see the main contents and the movies list are between the index[14:129] of the <code>li</code> tag."
   ]
  },
  {
   "cell_type": "code",
   "execution_count": 8,
   "metadata": {},
   "outputs": [],
   "source": [
    "movie_contents_2 =list_contents_2[14:129]\n",
    "first_row = movie_contents_2[0]"
   ]
  },
  {
   "cell_type": "markdown",
   "metadata": {},
   "source": [
    "- To merge both link contents "
   ]
  },
  {
   "cell_type": "code",
   "execution_count": 54,
   "metadata": {},
   "outputs": [],
   "source": [
    "#concat both links\n",
    "complete_movie_contents = movie_contents_1 + movie_contents_2 \n"
   ]
  },
  {
   "cell_type": "code",
   "execution_count": 10,
   "metadata": {},
   "outputs": [
    {
     "data": {
      "text/plain": [
       "315"
      ]
     },
     "execution_count": 10,
     "metadata": {},
     "output_type": "execute_result"
    }
   ],
   "source": [
    "#To get data length of the data\n",
    "data_range = len(complete_movie_contents)\n",
    "data_range"
   ]
  },
  {
   "cell_type": "markdown",
   "metadata": {},
   "source": [
    "<h3> To scrape out the Movie Title and Move Url</h3>\n",
    "<p><ul>\n",
    "<li>Created a Dataframe with columns \"Movie_title\" and \"Movie_url\"</li>\n",
    "<li> Used a <code>for</code> loop to iterate the <code>li</code> tags of the movie contents and taking its legth as the range</li>\n",
    "<li> Assigned to variable the megered movie contents as the iterable to get the text of all <code>a</code> on the list</li>\n",
    "<li> Assigned to another variable the megered movie contents as the iterable to get all <code>href</code> on the list</li>\n",
    "<li> Concatonated <code>\"https://en.wikipedia.org\"</code> and the scraped href to complete the Url content</li>\n",
    "<li> Added all the variables to the initially created dataframe.</li>\n",
    "</ul></p>"
   ]
  },
  {
   "cell_type": "code",
   "execution_count": 11,
   "metadata": {},
   "outputs": [],
   "source": [
    "movie_data = pd.DataFrame(columns =[\"Movie_title\", \"Movie_url\"])\n",
    "for i in range(len(complete_movie_contents)):\n",
    "   movie_title = complete_movie_contents[i].a.text\n",
    "   href_tag = complete_movie_contents[i].find(href=True)\n",
    "   movie_url = \"https://en.wikipedia.org\" + href_tag['href']\n",
    "   movie_df = pd.DataFrame.from_dict({\"Movie_title\" : [movie_title], \"Movie_url\":  [movie_url]})\n",
    "   movie_data = pd.concat([movie_data, movie_df],ignore_index=True)"
   ]
  },
  {
   "cell_type": "code",
   "execution_count": 12,
   "metadata": {},
   "outputs": [
    {
     "data": {
      "text/html": [
       "<div>\n",
       "<style scoped>\n",
       "    .dataframe tbody tr th:only-of-type {\n",
       "        vertical-align: middle;\n",
       "    }\n",
       "\n",
       "    .dataframe tbody tr th {\n",
       "        vertical-align: top;\n",
       "    }\n",
       "\n",
       "    .dataframe thead th {\n",
       "        text-align: right;\n",
       "    }\n",
       "</style>\n",
       "<table border=\"1\" class=\"dataframe\">\n",
       "  <thead>\n",
       "    <tr style=\"text-align: right;\">\n",
       "      <th></th>\n",
       "      <th>Movie_title</th>\n",
       "      <th>Movie_url</th>\n",
       "    </tr>\n",
       "  </thead>\n",
       "  <tbody>\n",
       "    <tr>\n",
       "      <th>0</th>\n",
       "      <td>170 Hz</td>\n",
       "      <td>https://en.wikipedia.org/wiki/170_Hz</td>\n",
       "    </tr>\n",
       "    <tr>\n",
       "      <th>1</th>\n",
       "      <td>1000 Roses</td>\n",
       "      <td>https://en.wikipedia.org/wiki/1000_Roses</td>\n",
       "    </tr>\n",
       "    <tr>\n",
       "      <th>2</th>\n",
       "      <td>About That Life (film)</td>\n",
       "      <td>https://en.wikipedia.org/wiki/About_That_Life_...</td>\n",
       "    </tr>\n",
       "    <tr>\n",
       "      <th>3</th>\n",
       "      <td>Above the Mountains</td>\n",
       "      <td>https://en.wikipedia.org/wiki/Above_the_Mountains</td>\n",
       "    </tr>\n",
       "    <tr>\n",
       "      <th>4</th>\n",
       "      <td>Accused (2014 film)</td>\n",
       "      <td>https://en.wikipedia.org/wiki/Accused_(2014_film)</td>\n",
       "    </tr>\n",
       "    <tr>\n",
       "      <th>...</th>\n",
       "      <td>...</td>\n",
       "      <td>...</td>\n",
       "    </tr>\n",
       "    <tr>\n",
       "      <th>310</th>\n",
       "      <td>De Witte Waan</td>\n",
       "      <td>https://en.wikipedia.org/wiki/De_Witte_Waan</td>\n",
       "    </tr>\n",
       "    <tr>\n",
       "      <th>311</th>\n",
       "      <td>A Woman Like Eve</td>\n",
       "      <td>https://en.wikipedia.org/wiki/A_Woman_Like_Eve</td>\n",
       "    </tr>\n",
       "    <tr>\n",
       "      <th>312</th>\n",
       "      <td>The Wreck in the North Sea</td>\n",
       "      <td>https://en.wikipedia.org/wiki/The_Wreck_in_the...</td>\n",
       "    </tr>\n",
       "    <tr>\n",
       "      <th>313</th>\n",
       "      <td>Zijn viool</td>\n",
       "      <td>https://en.wikipedia.org/wiki/Zijn_viool</td>\n",
       "    </tr>\n",
       "    <tr>\n",
       "      <th>314</th>\n",
       "      <td>Zuster Theresia</td>\n",
       "      <td>https://en.wikipedia.org/wiki/Zuster_Theresia</td>\n",
       "    </tr>\n",
       "  </tbody>\n",
       "</table>\n",
       "<p>315 rows × 2 columns</p>\n",
       "</div>"
      ],
      "text/plain": [
       "                    Movie_title  \\\n",
       "0                        170 Hz   \n",
       "1                    1000 Roses   \n",
       "2        About That Life (film)   \n",
       "3           Above the Mountains   \n",
       "4           Accused (2014 film)   \n",
       "..                          ...   \n",
       "310               De Witte Waan   \n",
       "311            A Woman Like Eve   \n",
       "312  The Wreck in the North Sea   \n",
       "313                  Zijn viool   \n",
       "314             Zuster Theresia   \n",
       "\n",
       "                                             Movie_url  \n",
       "0                 https://en.wikipedia.org/wiki/170_Hz  \n",
       "1             https://en.wikipedia.org/wiki/1000_Roses  \n",
       "2    https://en.wikipedia.org/wiki/About_That_Life_...  \n",
       "3    https://en.wikipedia.org/wiki/Above_the_Mountains  \n",
       "4    https://en.wikipedia.org/wiki/Accused_(2014_film)  \n",
       "..                                                 ...  \n",
       "310        https://en.wikipedia.org/wiki/De_Witte_Waan  \n",
       "311     https://en.wikipedia.org/wiki/A_Woman_Like_Eve  \n",
       "312  https://en.wikipedia.org/wiki/The_Wreck_in_the...  \n",
       "313           https://en.wikipedia.org/wiki/Zijn_viool  \n",
       "314      https://en.wikipedia.org/wiki/Zuster_Theresia  \n",
       "\n",
       "[315 rows x 2 columns]"
      ]
     },
     "execution_count": 12,
     "metadata": {},
     "output_type": "execute_result"
    }
   ],
   "source": [
    "movie_data"
   ]
  },
  {
   "cell_type": "markdown",
   "metadata": {},
   "source": [
    "Exported the dataset to Excel to for cleaning as it was a small dataset."
   ]
  },
  {
   "cell_type": "code",
   "execution_count": 21,
   "metadata": {},
   "outputs": [],
   "source": [
    "#export data to excel\n",
    "filename = 'Movie_data.xlsx'\n",
    "movie_data.to_excel(filename)"
   ]
  },
  {
   "cell_type": "markdown",
   "metadata": {},
   "source": [
    "Imported the cleaned Datasets for futher processing"
   ]
  },
  {
   "cell_type": "code",
   "execution_count": 30,
   "metadata": {},
   "outputs": [
    {
     "data": {
      "text/html": [
       "<div>\n",
       "<style scoped>\n",
       "    .dataframe tbody tr th:only-of-type {\n",
       "        vertical-align: middle;\n",
       "    }\n",
       "\n",
       "    .dataframe tbody tr th {\n",
       "        vertical-align: top;\n",
       "    }\n",
       "\n",
       "    .dataframe thead th {\n",
       "        text-align: right;\n",
       "    }\n",
       "</style>\n",
       "<table border=\"1\" class=\"dataframe\">\n",
       "  <thead>\n",
       "    <tr style=\"text-align: right;\">\n",
       "      <th></th>\n",
       "      <th>Movie_title</th>\n",
       "      <th>Movie_url</th>\n",
       "    </tr>\n",
       "  </thead>\n",
       "  <tbody>\n",
       "    <tr>\n",
       "      <th>0</th>\n",
       "      <td>170 Hz</td>\n",
       "      <td>https://en.wikipedia.org/wiki/170_Hz</td>\n",
       "    </tr>\n",
       "    <tr>\n",
       "      <th>1</th>\n",
       "      <td>1000 Roses</td>\n",
       "      <td>https://en.wikipedia.org/wiki/1000_Roses</td>\n",
       "    </tr>\n",
       "    <tr>\n",
       "      <th>2</th>\n",
       "      <td>About That Life (film)</td>\n",
       "      <td>https://en.wikipedia.org/wiki/About_That_Life_...</td>\n",
       "    </tr>\n",
       "    <tr>\n",
       "      <th>3</th>\n",
       "      <td>Above the Mountains</td>\n",
       "      <td>https://en.wikipedia.org/wiki/Above_the_Mountains</td>\n",
       "    </tr>\n",
       "    <tr>\n",
       "      <th>4</th>\n",
       "      <td>Accused (2014 film)</td>\n",
       "      <td>https://en.wikipedia.org/wiki/Accused_(2014_film)</td>\n",
       "    </tr>\n",
       "    <tr>\n",
       "      <th>...</th>\n",
       "      <td>...</td>\n",
       "      <td>...</td>\n",
       "    </tr>\n",
       "    <tr>\n",
       "      <th>306</th>\n",
       "      <td>De Witte Waan</td>\n",
       "      <td>https://en.wikipedia.org/wiki/De_Witte_Waan</td>\n",
       "    </tr>\n",
       "    <tr>\n",
       "      <th>307</th>\n",
       "      <td>A Woman Like Eve</td>\n",
       "      <td>https://en.wikipedia.org/wiki/A_Woman_Like_Eve</td>\n",
       "    </tr>\n",
       "    <tr>\n",
       "      <th>308</th>\n",
       "      <td>The Wreck in the North Sea</td>\n",
       "      <td>https://en.wikipedia.org/wiki/The_Wreck_in_the...</td>\n",
       "    </tr>\n",
       "    <tr>\n",
       "      <th>309</th>\n",
       "      <td>Zijn viool</td>\n",
       "      <td>https://en.wikipedia.org/wiki/Zijn_viool</td>\n",
       "    </tr>\n",
       "    <tr>\n",
       "      <th>310</th>\n",
       "      <td>Zuster Theresia</td>\n",
       "      <td>https://en.wikipedia.org/wiki/Zuster_Theresia</td>\n",
       "    </tr>\n",
       "  </tbody>\n",
       "</table>\n",
       "<p>311 rows × 2 columns</p>\n",
       "</div>"
      ],
      "text/plain": [
       "                    Movie_title  \\\n",
       "0                        170 Hz   \n",
       "1                    1000 Roses   \n",
       "2        About That Life (film)   \n",
       "3           Above the Mountains   \n",
       "4           Accused (2014 film)   \n",
       "..                          ...   \n",
       "306               De Witte Waan   \n",
       "307            A Woman Like Eve   \n",
       "308  The Wreck in the North Sea   \n",
       "309                  Zijn viool   \n",
       "310             Zuster Theresia   \n",
       "\n",
       "                                             Movie_url  \n",
       "0                 https://en.wikipedia.org/wiki/170_Hz  \n",
       "1             https://en.wikipedia.org/wiki/1000_Roses  \n",
       "2    https://en.wikipedia.org/wiki/About_That_Life_...  \n",
       "3    https://en.wikipedia.org/wiki/Above_the_Mountains  \n",
       "4    https://en.wikipedia.org/wiki/Accused_(2014_film)  \n",
       "..                                                 ...  \n",
       "306        https://en.wikipedia.org/wiki/De_Witte_Waan  \n",
       "307     https://en.wikipedia.org/wiki/A_Woman_Like_Eve  \n",
       "308  https://en.wikipedia.org/wiki/The_Wreck_in_the...  \n",
       "309           https://en.wikipedia.org/wiki/Zijn_viool  \n",
       "310      https://en.wikipedia.org/wiki/Zuster_Theresia  \n",
       "\n",
       "[311 rows x 2 columns]"
      ]
     },
     "execution_count": 30,
     "metadata": {},
     "output_type": "execute_result"
    }
   ],
   "source": [
    "movie_data_cleaned = pd.read_excel('Movie_dat.xlsx')\n",
    "movie_data_cleaned\n"
   ]
  },
  {
   "cell_type": "markdown",
   "metadata": {},
   "source": [
    "<h3>To scrape out the name of the movie directors from each individual scraped links</h3>\n",
    "<ul>\n",
    "<li>Created a Dataframe with columns \"Director\".</li>\n",
    "<li>Used a <code>for</code> loop to iterate links the cleaned movie dataset and taking its legth as the range</li>\n",
    "<li>Used <code>Requests</code> to get web contents of the Links Url</li>\n",
    "<li>Parsed the web contents using <BeautifulSoup></li>\n",
    "<li>Used <code>find_all</code> to target the <code>td, class='infobox-data'</code> of the list and assigned it to a variable</li>\n",
    "<li>Appened the variable to the intially created Dataframe</l2>\n",
    "</ul>"
   ]
  },
  {
   "cell_type": "code",
   "execution_count": 32,
   "metadata": {},
   "outputs": [],
   "source": [
    "directors = pd.DataFrame(columns =[\"Director\"])\n",
    "for i in range (len(movie_data_cleaned)):\n",
    "    url3 = movie_data_cleaned['Movie_url'][i]\n",
    "    data3 = requests.get(url3).text\n",
    "    soup3 = BeautifulSoup(data3, 'html.parser')\n",
    "    director = soup3.find_all('td',{'class':'infobox-data'})[0].text\n",
    "    directors_df = pd.DataFrame.from_dict({\"Director\" : [director]})\n",
    "    directors = pd.concat([directors, directors_df],ignore_index=True)\n",
    "   "
   ]
  },
  {
   "cell_type": "code",
   "execution_count": 49,
   "metadata": {},
   "outputs": [
    {
     "data": {
      "text/html": [
       "<div>\n",
       "<style scoped>\n",
       "    .dataframe tbody tr th:only-of-type {\n",
       "        vertical-align: middle;\n",
       "    }\n",
       "\n",
       "    .dataframe tbody tr th {\n",
       "        vertical-align: top;\n",
       "    }\n",
       "\n",
       "    .dataframe thead th {\n",
       "        text-align: right;\n",
       "    }\n",
       "</style>\n",
       "<table border=\"1\" class=\"dataframe\">\n",
       "  <thead>\n",
       "    <tr style=\"text-align: right;\">\n",
       "      <th></th>\n",
       "      <th>Movie_title</th>\n",
       "      <th>Movie_url</th>\n",
       "      <th>Director</th>\n",
       "    </tr>\n",
       "  </thead>\n",
       "  <tbody>\n",
       "    <tr>\n",
       "      <th>0</th>\n",
       "      <td>170 Hz</td>\n",
       "      <td>https://en.wikipedia.org/wiki/170_Hz</td>\n",
       "      <td>Joost van Ginkel</td>\n",
       "    </tr>\n",
       "    <tr>\n",
       "      <th>1</th>\n",
       "      <td>1000 Roses</td>\n",
       "      <td>https://en.wikipedia.org/wiki/1000_Roses</td>\n",
       "      <td>Theu Boermans</td>\n",
       "    </tr>\n",
       "    <tr>\n",
       "      <th>2</th>\n",
       "      <td>About That Life (film)</td>\n",
       "      <td>https://en.wikipedia.org/wiki/About_That_Life_...</td>\n",
       "      <td>De Libi</td>\n",
       "    </tr>\n",
       "    <tr>\n",
       "      <th>3</th>\n",
       "      <td>Above the Mountains</td>\n",
       "      <td>https://en.wikipedia.org/wiki/Above_the_Mountains</td>\n",
       "      <td>Digna Sinke</td>\n",
       "    </tr>\n",
       "    <tr>\n",
       "      <th>4</th>\n",
       "      <td>Accused (2014 film)</td>\n",
       "      <td>https://en.wikipedia.org/wiki/Accused_(2014_film)</td>\n",
       "      <td>Paula van der Oest</td>\n",
       "    </tr>\n",
       "    <tr>\n",
       "      <th>...</th>\n",
       "      <td>...</td>\n",
       "      <td>...</td>\n",
       "      <td>...</td>\n",
       "    </tr>\n",
       "    <tr>\n",
       "      <th>306</th>\n",
       "      <td>De Witte Waan</td>\n",
       "      <td>https://en.wikipedia.org/wiki/De_Witte_Waan</td>\n",
       "      <td>Adriaan Ditvoorst</td>\n",
       "    </tr>\n",
       "    <tr>\n",
       "      <th>307</th>\n",
       "      <td>A Woman Like Eve</td>\n",
       "      <td>https://en.wikipedia.org/wiki/A_Woman_Like_Eve</td>\n",
       "      <td>Nouchka van Brakel</td>\n",
       "    </tr>\n",
       "    <tr>\n",
       "      <th>308</th>\n",
       "      <td>The Wreck in the North Sea</td>\n",
       "      <td>https://en.wikipedia.org/wiki/The_Wreck_in_the...</td>\n",
       "      <td>Theo Frenkel</td>\n",
       "    </tr>\n",
       "    <tr>\n",
       "      <th>309</th>\n",
       "      <td>Zijn viool</td>\n",
       "      <td>https://en.wikipedia.org/wiki/Zijn_viool</td>\n",
       "      <td>Maurits Binger, Louis H. Chrispijn</td>\n",
       "    </tr>\n",
       "    <tr>\n",
       "      <th>310</th>\n",
       "      <td>Zuster Theresia</td>\n",
       "      <td>https://en.wikipedia.org/wiki/Zuster_Theresia</td>\n",
       "      <td>\\nM. H. Schilling\\nWong brothers\\n</td>\n",
       "    </tr>\n",
       "  </tbody>\n",
       "</table>\n",
       "<p>311 rows × 3 columns</p>\n",
       "</div>"
      ],
      "text/plain": [
       "                    Movie_title  \\\n",
       "0                        170 Hz   \n",
       "1                    1000 Roses   \n",
       "2        About That Life (film)   \n",
       "3           Above the Mountains   \n",
       "4           Accused (2014 film)   \n",
       "..                          ...   \n",
       "306               De Witte Waan   \n",
       "307            A Woman Like Eve   \n",
       "308  The Wreck in the North Sea   \n",
       "309                  Zijn viool   \n",
       "310             Zuster Theresia   \n",
       "\n",
       "                                             Movie_url  \\\n",
       "0                 https://en.wikipedia.org/wiki/170_Hz   \n",
       "1             https://en.wikipedia.org/wiki/1000_Roses   \n",
       "2    https://en.wikipedia.org/wiki/About_That_Life_...   \n",
       "3    https://en.wikipedia.org/wiki/Above_the_Mountains   \n",
       "4    https://en.wikipedia.org/wiki/Accused_(2014_film)   \n",
       "..                                                 ...   \n",
       "306        https://en.wikipedia.org/wiki/De_Witte_Waan   \n",
       "307     https://en.wikipedia.org/wiki/A_Woman_Like_Eve   \n",
       "308  https://en.wikipedia.org/wiki/The_Wreck_in_the...   \n",
       "309           https://en.wikipedia.org/wiki/Zijn_viool   \n",
       "310      https://en.wikipedia.org/wiki/Zuster_Theresia   \n",
       "\n",
       "                               Director  \n",
       "0                      Joost van Ginkel  \n",
       "1                         Theu Boermans  \n",
       "2                               De Libi  \n",
       "3                           Digna Sinke  \n",
       "4                    Paula van der Oest  \n",
       "..                                  ...  \n",
       "306                   Adriaan Ditvoorst  \n",
       "307                  Nouchka van Brakel  \n",
       "308                        Theo Frenkel  \n",
       "309  Maurits Binger, Louis H. Chrispijn  \n",
       "310  \\nM. H. Schilling\\nWong brothers\\n  \n",
       "\n",
       "[311 rows x 3 columns]"
      ]
     },
     "execution_count": 49,
     "metadata": {},
     "output_type": "execute_result"
    }
   ],
   "source": [
    "movie_data_updated = movie_data_cleaned.join(directors)\n",
    "movie_data_updated"
   ]
  },
  {
   "cell_type": "markdown",
   "metadata": {},
   "source": [
    "- Updated the new dataframe to the movie_data_cleaned dataframe and changed the order of the columns"
   ]
  },
  {
   "cell_type": "code",
   "execution_count": 51,
   "metadata": {},
   "outputs": [
    {
     "data": {
      "text/html": [
       "<div>\n",
       "<style scoped>\n",
       "    .dataframe tbody tr th:only-of-type {\n",
       "        vertical-align: middle;\n",
       "    }\n",
       "\n",
       "    .dataframe tbody tr th {\n",
       "        vertical-align: top;\n",
       "    }\n",
       "\n",
       "    .dataframe thead th {\n",
       "        text-align: right;\n",
       "    }\n",
       "</style>\n",
       "<table border=\"1\" class=\"dataframe\">\n",
       "  <thead>\n",
       "    <tr style=\"text-align: right;\">\n",
       "      <th></th>\n",
       "      <th>Movie_title</th>\n",
       "      <th>Director</th>\n",
       "      <th>Movie_url</th>\n",
       "    </tr>\n",
       "  </thead>\n",
       "  <tbody>\n",
       "    <tr>\n",
       "      <th>0</th>\n",
       "      <td>170 Hz</td>\n",
       "      <td>Joost van Ginkel</td>\n",
       "      <td>https://en.wikipedia.org/wiki/170_Hz</td>\n",
       "    </tr>\n",
       "    <tr>\n",
       "      <th>1</th>\n",
       "      <td>1000 Roses</td>\n",
       "      <td>Theu Boermans</td>\n",
       "      <td>https://en.wikipedia.org/wiki/1000_Roses</td>\n",
       "    </tr>\n",
       "    <tr>\n",
       "      <th>2</th>\n",
       "      <td>About That Life (film)</td>\n",
       "      <td>De Libi</td>\n",
       "      <td>https://en.wikipedia.org/wiki/About_That_Life_...</td>\n",
       "    </tr>\n",
       "    <tr>\n",
       "      <th>3</th>\n",
       "      <td>Above the Mountains</td>\n",
       "      <td>Digna Sinke</td>\n",
       "      <td>https://en.wikipedia.org/wiki/Above_the_Mountains</td>\n",
       "    </tr>\n",
       "    <tr>\n",
       "      <th>4</th>\n",
       "      <td>Accused (2014 film)</td>\n",
       "      <td>Paula van der Oest</td>\n",
       "      <td>https://en.wikipedia.org/wiki/Accused_(2014_film)</td>\n",
       "    </tr>\n",
       "    <tr>\n",
       "      <th>...</th>\n",
       "      <td>...</td>\n",
       "      <td>...</td>\n",
       "      <td>...</td>\n",
       "    </tr>\n",
       "    <tr>\n",
       "      <th>306</th>\n",
       "      <td>De Witte Waan</td>\n",
       "      <td>Adriaan Ditvoorst</td>\n",
       "      <td>https://en.wikipedia.org/wiki/De_Witte_Waan</td>\n",
       "    </tr>\n",
       "    <tr>\n",
       "      <th>307</th>\n",
       "      <td>A Woman Like Eve</td>\n",
       "      <td>Nouchka van Brakel</td>\n",
       "      <td>https://en.wikipedia.org/wiki/A_Woman_Like_Eve</td>\n",
       "    </tr>\n",
       "    <tr>\n",
       "      <th>308</th>\n",
       "      <td>The Wreck in the North Sea</td>\n",
       "      <td>Theo Frenkel</td>\n",
       "      <td>https://en.wikipedia.org/wiki/The_Wreck_in_the...</td>\n",
       "    </tr>\n",
       "    <tr>\n",
       "      <th>309</th>\n",
       "      <td>Zijn viool</td>\n",
       "      <td>Maurits Binger, Louis H. Chrispijn</td>\n",
       "      <td>https://en.wikipedia.org/wiki/Zijn_viool</td>\n",
       "    </tr>\n",
       "    <tr>\n",
       "      <th>310</th>\n",
       "      <td>Zuster Theresia</td>\n",
       "      <td>\\nM. H. Schilling\\nWong brothers\\n</td>\n",
       "      <td>https://en.wikipedia.org/wiki/Zuster_Theresia</td>\n",
       "    </tr>\n",
       "  </tbody>\n",
       "</table>\n",
       "<p>311 rows × 3 columns</p>\n",
       "</div>"
      ],
      "text/plain": [
       "                    Movie_title                            Director  \\\n",
       "0                        170 Hz                    Joost van Ginkel   \n",
       "1                    1000 Roses                       Theu Boermans   \n",
       "2        About That Life (film)                             De Libi   \n",
       "3           Above the Mountains                         Digna Sinke   \n",
       "4           Accused (2014 film)                  Paula van der Oest   \n",
       "..                          ...                                 ...   \n",
       "306               De Witte Waan                   Adriaan Ditvoorst   \n",
       "307            A Woman Like Eve                  Nouchka van Brakel   \n",
       "308  The Wreck in the North Sea                        Theo Frenkel   \n",
       "309                  Zijn viool  Maurits Binger, Louis H. Chrispijn   \n",
       "310             Zuster Theresia  \\nM. H. Schilling\\nWong brothers\\n   \n",
       "\n",
       "                                             Movie_url  \n",
       "0                 https://en.wikipedia.org/wiki/170_Hz  \n",
       "1             https://en.wikipedia.org/wiki/1000_Roses  \n",
       "2    https://en.wikipedia.org/wiki/About_That_Life_...  \n",
       "3    https://en.wikipedia.org/wiki/Above_the_Mountains  \n",
       "4    https://en.wikipedia.org/wiki/Accused_(2014_film)  \n",
       "..                                                 ...  \n",
       "306        https://en.wikipedia.org/wiki/De_Witte_Waan  \n",
       "307     https://en.wikipedia.org/wiki/A_Woman_Like_Eve  \n",
       "308  https://en.wikipedia.org/wiki/The_Wreck_in_the...  \n",
       "309           https://en.wikipedia.org/wiki/Zijn_viool  \n",
       "310      https://en.wikipedia.org/wiki/Zuster_Theresia  \n",
       "\n",
       "[311 rows x 3 columns]"
      ]
     },
     "execution_count": 51,
     "metadata": {},
     "output_type": "execute_result"
    }
   ],
   "source": [
    "movie_data_updated = movie_data_updated.iloc[:, [0,2,1]]\n",
    "movie_data_updated\n"
   ]
  },
  {
   "cell_type": "markdown",
   "metadata": {},
   "source": [
    "- Due to the irregularities in the Html of the individual movie Urls, I could not collectively scrape out more data from the Urls\n",
    "- Exported the Movie Dataset as an excel format"
   ]
  },
  {
   "cell_type": "code",
   "execution_count": 717,
   "metadata": {},
   "outputs": [],
   "source": [
    "file_name = 'DutchMoviesListandUrl.xlsx'\n",
    "movie_data_updated.to_excel(file_name)"
   ]
  }
 ],
 "metadata": {
  "interpreter": {
   "hash": "111c587d805d006d4258aa431fdd4511e6cdecce60bd037d70d9cfa34a004c38"
  },
  "kernelspec": {
   "display_name": "Python 3.9.12 ('base')",
   "language": "python",
   "name": "python3"
  },
  "language_info": {
   "codemirror_mode": {
    "name": "ipython",
    "version": 3
   },
   "file_extension": ".py",
   "mimetype": "text/x-python",
   "name": "python",
   "nbconvert_exporter": "python",
   "pygments_lexer": "ipython3",
   "version": "3.9.12"
  },
  "orig_nbformat": 4,
  "vscode": {
   "interpreter": {
    "hash": "111c587d805d006d4258aa431fdd4511e6cdecce60bd037d70d9cfa34a004c38"
   }
  }
 },
 "nbformat": 4,
 "nbformat_minor": 2
}
